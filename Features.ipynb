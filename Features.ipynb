{
 "cells": [
  {
   "cell_type": "code",
   "execution_count": 2,
   "metadata": {},
   "outputs": [],
   "source": [
    "import numpy as np\n",
    "import pandas as pd\n",
    "from cleaning import clean"
   ]
  },
  {
   "cell_type": "code",
   "execution_count": 3,
   "metadata": {},
   "outputs": [],
   "source": [
    "spam = pd.read_csv(\"../spamTweets.csv\")\n",
    "real = pd.read_csv(\"../hamTweets.csv\")\n"
   ]
  },
  {
   "cell_type": "raw",
   "metadata": {},
   "source": [
    "So what are the possible features we can implement ?\n",
    "1. Tweet Based\n",
    "2. User Info Based\n",
    "3. Follower Info based"
   ]
  },
  {
   "cell_type": "raw",
   "metadata": {},
   "source": [
    "Tweet Based:\n",
    "1.1 Lexical Diversity (ttr score)\n",
    "1.2 Usage of common N-grams\n",
    "1.3 Presence of URLs\n",
    "1.4 Word Similarity with other tweets"
   ]
  },
  {
   "cell_type": "markdown",
   "metadata": {},
   "source": [
    "## EXTRACTING MOST COMMON N_GRAMS ##"
   ]
  },
  {
   "cell_type": "code",
   "execution_count": 4,
   "metadata": {},
   "outputs": [],
   "source": [
    "from nltk import ngrams\n",
    "import collections\n",
    "allWords = []\n",
    "for tweet in spam['Tweet'][:50000]:\n",
    "    tweet = clean(tweet)\n",
    "    allWords.extend(tweet)"
   ]
  },
  {
   "cell_type": "code",
   "execution_count": 33,
   "metadata": {},
   "outputs": [
    {
     "data": {
      "text/plain": [
       "[(('check', 'out'), 39652),\n",
       " (('for', 'the'), 38547),\n",
       " (('the', 'latest'), 33948),\n",
       " (('make', 'money'), 31947),\n",
       " (('latest', 'news'), 31370),\n",
       " (('news', 'about'), 30691),\n",
       " (('you', 'can'), 23922),\n",
       " (('the', 'best'), 23226),\n",
       " (('you', 'have'), 19948),\n",
       " (('twitter', 'account'), 19707)]"
      ]
     },
     "execution_count": 33,
     "metadata": {},
     "output_type": "execute_result"
    }
   ],
   "source": [
    "bigrams = ngrams(allWords, 2)\n",
    "collections.Counter(bigrams).most_common(10)"
   ]
  },
  {
   "cell_type": "code",
   "execution_count": 5,
   "metadata": {},
   "outputs": [
    {
     "data": {
      "text/plain": [
       "[(('new', 'blog', 'post'), 588),\n",
       " (('thanks', 'for', 'the'), 341),\n",
       " (('did', 'you', 'know'), 147),\n",
       " (('thank', 'you', 'for'), 141),\n",
       " (('social', 'medium', 'marketing'), 128),\n",
       " (('happy', 'new', 'year'), 89),\n",
       " (('what', 'you', 'think'), 89),\n",
       " (('photo', 'the', 'day'), 86),\n",
       " (('check', 'out', 'the'), 84),\n",
       " (('travel', 'photo', 'the'), 84)]"
      ]
     },
     "execution_count": 5,
     "metadata": {},
     "output_type": "execute_result"
    }
   ],
   "source": [
    "trigrams = ngrams(allWords, 3)\n",
    "collections.Counter(trigrams).most_common(10)"
   ]
  },
  {
   "cell_type": "code",
   "execution_count": 6,
   "metadata": {},
   "outputs": [
    {
     "data": {
      "text/plain": [
       "[(('the', 'latest', 'news'), 456),\n",
       " (('latest', 'news', 'about'), 446),\n",
       " (('thanks', 'for', 'the'), 341),\n",
       " (('make', 'money', 'online'), 269),\n",
       " (('new', 'blog', 'post'), 253),\n",
       " (('check', 'out', 'for'), 211),\n",
       " (('your', 'twitter', 'account'), 209),\n",
       " (('please', 'check', 'out'), 203),\n",
       " (('out', 'for', 'sale'), 197),\n",
       " (('check', 'this', 'out'), 193)]"
      ]
     },
     "execution_count": 6,
     "metadata": {},
     "output_type": "execute_result"
    }
   ],
   "source": [
    "from nltk import ngrams\n",
    "import collections\n",
    "allWords = []\n",
    "for tweet in spam['Tweet'][200000:250000]:\n",
    "    tweet = clean(tweet)\n",
    "    allWords.extend(tweet)\n",
    "    \n",
    "trigrams = ngrams(allWords, 3)\n",
    "collections.Counter(trigrams).most_common(10)"
   ]
  },
  {
   "cell_type": "code",
   "execution_count": 31,
   "metadata": {},
   "outputs": [],
   "source": [
    "bigrams  = ['check out',\n",
    " 'for the',\n",
    " 'the latest',\n",
    " 'make money',\n",
    " 'latest news',\n",
    " 'news about',\n",
    " 'you can',\n",
    " 'the best',\n",
    " 'you have',\n",
    " 'twitter account']\n",
    "\n",
    "trigrams = [(('the', 'latest', 'news'), 456),\n",
    " (('latest', 'news', 'about'), 446),\n",
    " (('thanks', 'for', 'the'), 341),\n",
    " (('make', 'money', 'online'), 269),\n",
    " (('new', 'blog', 'post'), 253),\n",
    " (('check', 'out', 'for'), 211),\n",
    " (('your', 'twitter', 'account'), 209),\n",
    " (('please', 'check', 'out'), 203),\n",
    " (('out', 'for', 'sale'), 197),\n",
    " (('check', 'this', 'out'), 193)]\n",
    "\n",
    "\n",
    "\n",
    "def HasNGrams(tweet):\n",
    "    if(type(tweet) == list):\n",
    "        tweet = ' '.join(tweet)\n",
    "    \n",
    "    for bigram in bigrams:\n",
    "        if bigram in tweet:\n",
    "            return True\n",
    "    return False"
   ]
  },
  {
   "cell_type": "code",
   "execution_count": 32,
   "metadata": {},
   "outputs": [
    {
     "data": {
      "text/plain": [
       "True"
      ]
     },
     "execution_count": 32,
     "metadata": {},
     "output_type": "execute_result"
    }
   ],
   "source": [
    "HasNGrams(\"get the latest news about all corona\".split())"
   ]
  },
  {
   "cell_type": "code",
   "execution_count": 30,
   "metadata": {},
   "outputs": [
    {
     "data": {
      "text/plain": [
       "'getthelatestnewsaboutallcorona'"
      ]
     },
     "execution_count": 30,
     "metadata": {},
     "output_type": "execute_result"
    }
   ],
   "source": [
    "''.join(\"get the latest news about all corona\".split())"
   ]
  },
  {
   "cell_type": "code",
   "execution_count": null,
   "metadata": {},
   "outputs": [],
   "source": []
  }
 ],
 "metadata": {
  "kernelspec": {
   "display_name": "Python 3",
   "language": "python",
   "name": "python3"
  },
  "language_info": {
   "codemirror_mode": {
    "name": "ipython",
    "version": 3
   },
   "file_extension": ".py",
   "mimetype": "text/x-python",
   "name": "python",
   "nbconvert_exporter": "python",
   "pygments_lexer": "ipython3",
   "version": "3.7.6"
  }
 },
 "nbformat": 4,
 "nbformat_minor": 4
}
