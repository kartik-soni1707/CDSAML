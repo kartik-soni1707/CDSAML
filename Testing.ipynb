{
 "cells": [
  {
   "cell_type": "code",
   "execution_count": 1,
   "metadata": {},
   "outputs": [],
   "source": [
    "import pandas as pd\n",
    "import numpy as np"
   ]
  },
  {
   "cell_type": "code",
   "execution_count": 3,
   "metadata": {},
   "outputs": [],
   "source": [
    "csv_names = [\"lgtmt_tweets.csv\", \"spam_tweets.csv\"]\n",
    "i = 0\n",
    "for filename in [\"social_honeypot_icwsm_2011/content_polluters_tweets.txt\",\"social_honeypot_icwsm_2011/legitimate_users_tweets.txt\" ]:\n",
    "    fp = open(filename, \"r\")\n",
    "    data = fp.read()\n",
    "    data = data.split('\\n')\n",
    "    tweet_data = []\n",
    "    for line in data:\n",
    "        line = line.split('\\t')\n",
    "        tweet_data.append(line)\n",
    "    df = pd.DataFrame(tweet_data, columns=[\"User_ID\", \"Tweet_ID\", \"Tweet\", \"Created_At\"])\n",
    "    df.to_csv(csv_names[i])\n",
    "    i+=1"
   ]
  },
  {
   "cell_type": "markdown",
   "metadata": {},
   "source": [
    "## Key ##\n",
    "### 0: User_ID ###\n",
    "### 1: Tweet_ID ###\n",
    "### 2: Tweet ###\n",
    "### 3: Created_At ###"
   ]
  },
  {
   "cell_type": "code",
   "execution_count": 27,
   "metadata": {},
   "outputs": [
    {
     "data": {
      "text/html": [
       "<div>\n",
       "<style scoped>\n",
       "    .dataframe tbody tr th:only-of-type {\n",
       "        vertical-align: middle;\n",
       "    }\n",
       "\n",
       "    .dataframe tbody tr th {\n",
       "        vertical-align: top;\n",
       "    }\n",
       "\n",
       "    .dataframe thead th {\n",
       "        text-align: right;\n",
       "    }\n",
       "</style>\n",
       "<table border=\"1\" class=\"dataframe\">\n",
       "  <thead>\n",
       "    <tr style=\"text-align: right;\">\n",
       "      <th></th>\n",
       "      <th>User_ID</th>\n",
       "      <th>Tweet_ID</th>\n",
       "      <th>Tweet</th>\n",
       "      <th>Created_At</th>\n",
       "    </tr>\n",
       "  </thead>\n",
       "  <tbody>\n",
       "    <tr>\n",
       "      <th>0</th>\n",
       "      <td>614</td>\n",
       "      <td>5912305459</td>\n",
       "      <td>… at house party in Daybreak. Not as weird as ...</td>\n",
       "      <td>2009-11-20 23:52:52</td>\n",
       "    </tr>\n",
       "    <tr>\n",
       "      <th>1</th>\n",
       "      <td>614</td>\n",
       "      <td>5908467165</td>\n",
       "      <td>Taxiing  — at SLC Salt Lake City International...</td>\n",
       "      <td>2009-11-20 20:42:48</td>\n",
       "    </tr>\n",
       "    <tr>\n",
       "      <th>2</th>\n",
       "      <td>614</td>\n",
       "      <td>5904901963</td>\n",
       "      <td>Almost home! — at PDX Portland International  ...</td>\n",
       "      <td>2009-11-20 18:11:01</td>\n",
       "    </tr>\n",
       "    <tr>\n",
       "      <th>3</th>\n",
       "      <td>614</td>\n",
       "      <td>5900351610</td>\n",
       "      <td>Lunch!  — at Ten01 http://gowal.la/s/Awa</td>\n",
       "      <td>2009-11-20 15:04:42</td>\n",
       "    </tr>\n",
       "    <tr>\n",
       "      <th>4</th>\n",
       "      <td>614</td>\n",
       "      <td>5900312627</td>\n",
       "      <td>Mm … books — at @Powells http://gowal.la/s/6fe</td>\n",
       "      <td>2009-11-20 15:03:06</td>\n",
       "    </tr>\n",
       "  </tbody>\n",
       "</table>\n",
       "</div>"
      ],
      "text/plain": [
       "  User_ID    Tweet_ID                                              Tweet  \\\n",
       "0     614  5912305459  … at house party in Daybreak. Not as weird as ...   \n",
       "1     614  5908467165  Taxiing  — at SLC Salt Lake City International...   \n",
       "2     614  5904901963  Almost home! — at PDX Portland International  ...   \n",
       "3     614  5900351610           Lunch!  — at Ten01 http://gowal.la/s/Awa   \n",
       "4     614  5900312627     Mm … books — at @Powells http://gowal.la/s/6fe   \n",
       "\n",
       "            Created_At  \n",
       "0  2009-11-20 23:52:52  \n",
       "1  2009-11-20 20:42:48  \n",
       "2  2009-11-20 18:11:01  \n",
       "3  2009-11-20 15:04:42  \n",
       "4  2009-11-20 15:03:06  "
      ]
     },
     "execution_count": 27,
     "metadata": {},
     "output_type": "execute_result"
    }
   ],
   "source": [
    "df.head()"
   ]
  },
  {
   "cell_type": "code",
   "execution_count": 2,
   "metadata": {},
   "outputs": [],
   "source": [
    "csv_names = [\"lgtmt_users.csv\", \"spam_users.csv\"]\n",
    "i = 0\n",
    "for filename in [\"social_honeypot_icwsm_2011/content_polluters.txt\",\"social_honeypot_icwsm_2011/legitimate_users.txt\" ]:\n",
    "    fp = open(filename, \"r\")\n",
    "    data = fp.read()\n",
    "    data = data.split('\\n')\n",
    "    tweet_data = []\n",
    "    for line in data:\n",
    "        line = line.split('\\t')\n",
    "        tweet_data.append(line)\n",
    "    df = pd.DataFrame(tweet_data, columns=[\"UserID\"\n",
    "                                           ,\"CreatedAt\"\n",
    "                                           ,\"CollectedAt\"\n",
    "                                           ,\"NumerOfFollowings\"\n",
    "                                           ,\"NumberOfFollowers\"\n",
    "                                           ,\"NumberOfTweets\"\n",
    "                                           ,\"LengthOfScreenName\"\n",
    "                                           ,\"LengthOfDescriptionInUserProfile\"])\n",
    "    df.to_csv(csv_names[i])\n",
    "    i+=1"
   ]
  },
  {
   "cell_type": "code",
   "execution_count": 6,
   "metadata": {},
   "outputs": [],
   "source": [
    "csv_names = [\"lgtmt_users_followers.csv\", \"spam_users_followers.csv\"]\n",
    "i = 0\n",
    "for filename in [\"social_honeypot_icwsm_2011/content_polluters_followings.txt\",\"social_honeypot_icwsm_2011/legitimate_users_followings.txt\" ]:\n",
    "    fp = open(filename, \"r\")\n",
    "    data = fp.read()\n",
    "    data = data.split('\\n')\n",
    "    tweet_data = []\n",
    "    for line in data:\n",
    "        line = line.split('\\t')\n",
    "        tweet_data.append(line)\n",
    "    df = pd.DataFrame(tweet_data, columns=[\"UserID\",\"SeriesOfNumberOfFollowings\"])\n",
    "    df.to_csv(csv_names[i])\n",
    "    i+=1"
   ]
  },
  {
   "cell_type": "code",
   "execution_count": 7,
   "metadata": {},
   "outputs": [],
   "source": [
    "df = pd.read_csv(\"lgtmt_users_followers.csv\")"
   ]
  },
  {
   "cell_type": "code",
   "execution_count": 14,
   "metadata": {},
   "outputs": [
    {
     "data": {
      "text/plain": [
       "['3269,3310,3339,3381,3351,3323,3305,3275,3245,3209,3191,3154,3135,3106,3108,3196,3255,3313,3354,3395,3414,3402,3390,3365,3329,3299,3282,3257,3239,3207,3194,3288,3354,3428,3478,3482,3556,3525,3502,3466,3435,3399,3374,3351,3309,3267,3237,3223,3309,3406,3487,3543,3606,3611,3583,3605,3622,3628,3628,3629,3643,3647,3647,3556,3513,3494,3470,3440,3410,3380,3356,3332,3305,3350,3390,3415,3457,3505,3551,3594,3597,3573,3548,3524,3488,3464,3428,3410,3376,3376,3346,3353,3391,3425,3446,3486,3542,3606,3674,3669,3645,3608,3578,3556,3514,3490,3466,3442,3431,3458,3495,3537,3601,3675,3771,3723,3758,3722,3692,3662,3637,3601,3584,3566,3554,3587,3622,3678,3731,3774,3833,3824,3788,3744,3726,3684,3672,3642,3636,3612,3576,3615,3644,3687,3744,3801,3864,3841,3792,3763,3725,3693,3650,3643,3649,3625,3594,3628,3670,3698,3746,3792,3889,3883,3852,3814,3779,3748,3724,3688,3664,3628,3610,3646,3693,3736,3779,3815,3874,3877,3846,3816,3792,3774,3750,3720,3684,3647,3638,3612,3627,3664,3704,3726,3765,3805,3866,3859,3841,3810,3768,3743,3701,3671,3655,3631,3607,3653,3699,3735,3777,3848,3936,3888,3815,3785,3743,3707,3688,3652,3616,3604,3623,3655,3695,3732,3788,3872,3929,3893']"
      ]
     },
     "execution_count": 14,
     "metadata": {},
     "output_type": "execute_result"
    }
   ],
   "source": [
    "list(df.head(1)[\"SeriesOfNumberOfFollowings\"])"
   ]
  },
  {
   "cell_type": "code",
   "execution_count": null,
   "metadata": {},
   "outputs": [],
   "source": []
  }
 ],
 "metadata": {
  "kernelspec": {
   "display_name": "Python 3",
   "language": "python",
   "name": "python3"
  },
  "language_info": {
   "codemirror_mode": {
    "name": "ipython",
    "version": 3
   },
   "file_extension": ".py",
   "mimetype": "text/x-python",
   "name": "python",
   "nbconvert_exporter": "python",
   "pygments_lexer": "ipython3",
   "version": "3.7.6"
  }
 },
 "nbformat": 4,
 "nbformat_minor": 4
}
